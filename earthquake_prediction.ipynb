{
 "cells": [
  {
   "cell_type": "code",
   "execution_count": 1,
   "source": [
    "import findspark\r\n",
    "findspark.init()"
   ],
   "outputs": [],
   "metadata": {}
  },
  {
   "cell_type": "code",
   "execution_count": 2,
   "source": [
    "import pyspark\r\n",
    "from pyspark.sql import SparkSession\r\n",
    "from pyspark.sql.types import *\r\n",
    "from pyspark.sql.functions import *\r\n"
   ],
   "outputs": [],
   "metadata": {}
  },
  {
   "cell_type": "code",
   "execution_count": 4,
   "source": [
    "# Configur spark session\r\n",
    "spark = SparkSession\\\r\n",
    "    .builder\\\r\n",
    "    .master('local[4]')\\\r\n",
    "    .appName('quake_etl')\\\r\n",
    "    .config('spark.jars.packages', 'org.mongodb.spark:mongo-spark-connector_2.12:2.4.1')\\\r\n",
    "    .getOrCreate()"
   ],
   "outputs": [],
   "metadata": {}
  },
  {
   "cell_type": "code",
   "execution_count": 6,
   "source": [
    "# Loading dataset\r\n",
    "df_load = spark.read.csv(r\"C:\\1_My_things\\1. Sem 7\\BDAD\\database.csv\", header = True)\r\n",
    "# Preview dr_load\r\n",
    "df_load.take(1)"
   ],
   "outputs": [
    {
     "output_type": "execute_result",
     "data": {
      "text/plain": [
       "[Row(Date='01/02/1965', Time='13:44:18', Latitude='19.246', Longitude='145.616', Type='Earthquake', Depth='131.6', Depth Error=None, Depth Seismic Stations=None, Magnitude='6', Magnitude Type='MW', Magnitude Error=None, Magnitude Seismic Stations=None, Azimuthal Gap=None, Horizontal Distance=None, Horizontal Error=None, Root Mean Square=None, ID='ISCGEM860706', Source='ISCGEM', Location Source='ISCGEM', Magnitude Source='ISCGEM', Status='Automatic')]"
      ]
     },
     "metadata": {},
     "execution_count": 6
    }
   ],
   "metadata": {}
  },
  {
   "cell_type": "code",
   "execution_count": 8,
   "source": [
    "lst_dropped_columns = [\r\n",
    "    'Depth Error',\r\n",
    "    'Time',\r\n",
    "    'Depth Seismic Stations',\r\n",
    "    'Magnitude Error',\r\n",
    "    'Magnitude Seismic Stations',\r\n",
    "    'Azimuthal Gap',\r\n",
    "    'Horizontal Distance',\r\n",
    "    'Horizontal Error',\r\n",
    "    'Root Mean Square',\r\n",
    "    'Source',\r\n",
    "    'Location Source',\r\n",
    "    'Magnitude Source',\r\n",
    "    'Status'\r\n",
    "]\r\n",
    "\r\n",
    "# Drop all the columns listed above and assign new dataframe to df_drop\r\n",
    "df_load = df_load.drop(*lst_dropped_columns)\r\n",
    "\r\n",
    "# Preview df_drop\r\n",
    "df_load.show(10)"
   ],
   "outputs": [
    {
     "output_type": "stream",
     "name": "stdout",
     "text": [
      "+----------+--------+---------+----------+-----+---------+--------------+---------------+\n",
      "|      Date|Latitude|Longitude|      Type|Depth|Magnitude|Magnitude Type|             ID|\n",
      "+----------+--------+---------+----------+-----+---------+--------------+---------------+\n",
      "|01/02/1965|  19.246|  145.616|Earthquake|131.6|        6|            MW|   ISCGEM860706|\n",
      "|01/04/1965|   1.863|  127.352|Earthquake|   80|      5.8|            MW|   ISCGEM860737|\n",
      "|01/05/1965| -20.579| -173.972|Earthquake|   20|      6.2|            MW|   ISCGEM860762|\n",
      "|01/08/1965| -59.076|  -23.557|Earthquake|   15|      5.8|            MW|   ISCGEM860856|\n",
      "|01/09/1965|  11.938|  126.427|Earthquake|   15|      5.8|            MW|   ISCGEM860890|\n",
      "|01/10/1965| -13.405|  166.629|Earthquake|   35|      6.7|            MW|   ISCGEM860922|\n",
      "|01/12/1965|  27.357|   87.867|Earthquake|   20|      5.9|            MW|   ISCGEM861007|\n",
      "|01/15/1965| -13.309|  166.212|Earthquake|   35|        6|            MW|   ISCGEM861111|\n",
      "|01/16/1965| -56.452|  -27.043|Earthquake|   95|        6|            MW|ISCGEMSUP861125|\n",
      "|01/17/1965| -24.563|  178.487|Earthquake|  565|      5.8|            MW|   ISCGEM861148|\n",
      "+----------+--------+---------+----------+-----+---------+--------------+---------------+\n",
      "only showing top 10 rows\n",
      "\n"
     ]
    }
   ],
   "metadata": {}
  },
  {
   "cell_type": "code",
   "execution_count": 10,
   "source": [
    "# Creating year field and add it to the dataframe\r\n",
    "df_load = df_load.withColumn('Year', year(to_timestamp('Date', 'dd/MM/yyyy')))\r\n",
    "# preview df_load\r\n",
    "df_load.show(10)"
   ],
   "outputs": [
    {
     "output_type": "stream",
     "name": "stdout",
     "text": [
      "+----------+--------+---------+----------+-----+---------+--------------+---------------+----+\n",
      "|      Date|Latitude|Longitude|      Type|Depth|Magnitude|Magnitude Type|             ID|Year|\n",
      "+----------+--------+---------+----------+-----+---------+--------------+---------------+----+\n",
      "|01/02/1965|  19.246|  145.616|Earthquake|131.6|        6|            MW|   ISCGEM860706|1965|\n",
      "|01/04/1965|   1.863|  127.352|Earthquake|   80|      5.8|            MW|   ISCGEM860737|1965|\n",
      "|01/05/1965| -20.579| -173.972|Earthquake|   20|      6.2|            MW|   ISCGEM860762|1965|\n",
      "|01/08/1965| -59.076|  -23.557|Earthquake|   15|      5.8|            MW|   ISCGEM860856|1965|\n",
      "|01/09/1965|  11.938|  126.427|Earthquake|   15|      5.8|            MW|   ISCGEM860890|1965|\n",
      "|01/10/1965| -13.405|  166.629|Earthquake|   35|      6.7|            MW|   ISCGEM860922|1965|\n",
      "|01/12/1965|  27.357|   87.867|Earthquake|   20|      5.9|            MW|   ISCGEM861007|1965|\n",
      "|01/15/1965| -13.309|  166.212|Earthquake|   35|        6|            MW|   ISCGEM861111|null|\n",
      "|01/16/1965| -56.452|  -27.043|Earthquake|   95|        6|            MW|ISCGEMSUP861125|null|\n",
      "|01/17/1965| -24.563|  178.487|Earthquake|  565|      5.8|            MW|   ISCGEM861148|null|\n",
      "+----------+--------+---------+----------+-----+---------+--------------+---------------+----+\n",
      "only showing top 10 rows\n",
      "\n"
     ]
    }
   ],
   "metadata": {}
  },
  {
   "cell_type": "code",
   "execution_count": 12,
   "source": [
    "# Build the quakes frequiency dataframe using year filed and count for each year\r\n",
    "df_quake_freq = df_load.groupBy('Year').count().withColumnRenamed('count', 'Counts')\r\n",
    "# Preview df_quake_freq\r\n",
    "df_quake_freq.show(10)"
   ],
   "outputs": [
    {
     "output_type": "stream",
     "name": "stdout",
     "text": [
      "+----+------+\n",
      "|Year|Counts|\n",
      "+----+------+\n",
      "|1990|   196|\n",
      "|1975|   150|\n",
      "|1977|   148|\n",
      "|2003|   187|\n",
      "|2007|   211|\n",
      "|1974|   147|\n",
      "|2015|   175|\n",
      "|2006|   176|\n",
      "|1978|   158|\n",
      "|2013|   202|\n",
      "+----+------+\n",
      "only showing top 10 rows\n",
      "\n"
     ]
    }
   ],
   "metadata": {}
  },
  {
   "cell_type": "code",
   "execution_count": null,
   "source": [],
   "outputs": [],
   "metadata": {}
  }
 ],
 "metadata": {
  "orig_nbformat": 4,
  "language_info": {
   "name": "python",
   "version": "3.9.6",
   "mimetype": "text/x-python",
   "codemirror_mode": {
    "name": "ipython",
    "version": 3
   },
   "pygments_lexer": "ipython3",
   "nbconvert_exporter": "python",
   "file_extension": ".py"
  },
  "kernelspec": {
   "name": "python3",
   "display_name": "Python 3.9.6 64-bit"
  },
  "interpreter": {
   "hash": "127476f26a63e7b82ab42f7db8244ce309f5a90dbe7da8e80772de56a956c678"
  }
 },
 "nbformat": 4,
 "nbformat_minor": 2
}